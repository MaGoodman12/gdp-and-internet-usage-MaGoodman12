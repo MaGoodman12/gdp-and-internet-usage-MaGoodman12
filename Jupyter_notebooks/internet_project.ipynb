{
 "cells": [
  {
   "cell_type": "markdown",
   "id": "ccc0e0b1",
   "metadata": {},
   "source": [
    "# UN Data and Internet Usage"
   ]
  },
  {
   "cell_type": "markdown",
   "id": "ceaecdab",
   "metadata": {},
   "source": [
    "## 1-6: set up notebook and import all packages and files"
   ]
  },
  {
   "cell_type": "code",
   "execution_count": 1,
   "id": "e6551b70",
   "metadata": {},
   "outputs": [],
   "source": [
    "import pandas as pd\n",
    "import numpy as np\n",
    "import matplotlib.pyplot as plt\n",
    "import seaborn as sns\n",
    "%matplotlib inline"
   ]
  },
  {
   "cell_type": "code",
   "execution_count": 2,
   "id": "fdf610b1",
   "metadata": {
    "scrolled": true
   },
   "outputs": [],
   "source": [
    "gdp_df = pd.read_csv(\"../data/gdp_percapita.csv\", nrows=6868)"
   ]
  },
  {
   "cell_type": "code",
   "execution_count": 3,
   "id": "db4475f1",
   "metadata": {},
   "outputs": [],
   "source": [
    "internet_df = pd.read_csv(\"../data/internet_use.csv\", nrows=4495)"
   ]
  },
  {
   "cell_type": "markdown",
   "id": "c8f3bff9",
   "metadata": {},
   "source": [
    "### fixed upload error by halting rows holding footnotes"
   ]
  },
  {
   "cell_type": "markdown",
   "id": "5c65ad6e",
   "metadata": {},
   "source": [
    "## 7: Look at the shape of each DataFrame - how many rows? How many columns?"
   ]
  },
  {
   "cell_type": "code",
   "execution_count": 4,
   "id": "60e7289e",
   "metadata": {},
   "outputs": [
    {
     "data": {
      "text/plain": [
       "(6868, 4)"
      ]
     },
     "execution_count": 4,
     "metadata": {},
     "output_type": "execute_result"
    }
   ],
   "source": [
    "gdp_df.shape"
   ]
  },
  {
   "cell_type": "code",
   "execution_count": 5,
   "id": "a7507b14",
   "metadata": {},
   "outputs": [
    {
     "data": {
      "text/plain": [
       "(4495, 4)"
      ]
     },
     "execution_count": 5,
     "metadata": {},
     "output_type": "execute_result"
    }
   ],
   "source": [
    "internet_df.shape"
   ]
  },
  {
   "cell_type": "markdown",
   "id": "1c3575ac",
   "metadata": {},
   "source": [
    "### gdp:[6868 rows x 4 columns], internet:[4495 rows x 4 columns]"
   ]
  },
  {
   "cell_type": "markdown",
   "id": "02cc73e9",
   "metadata": {},
   "source": [
    "## 8: Take a look at the datatypes for the columns in each DataFrame."
   ]
  },
  {
   "cell_type": "code",
   "execution_count": 6,
   "id": "6a79f50d",
   "metadata": {},
   "outputs": [
    {
     "data": {
      "text/plain": [
       "[dtype('O'), dtype('int64'), dtype('float64'), dtype('float64')]"
      ]
     },
     "execution_count": 6,
     "metadata": {},
     "output_type": "execute_result"
    }
   ],
   "source": [
    "list(gdp_df.dtypes)"
   ]
  },
  {
   "cell_type": "code",
   "execution_count": 7,
   "id": "889249bf",
   "metadata": {},
   "outputs": [
    {
     "data": {
      "text/plain": [
       "[dtype('O'), dtype('int64'), dtype('float64'), dtype('float64')]"
      ]
     },
     "execution_count": 7,
     "metadata": {},
     "output_type": "execute_result"
    }
   ],
   "source": [
    "list(internet_df.dtypes)"
   ]
  },
  {
   "cell_type": "markdown",
   "id": "a0e676f2",
   "metadata": {},
   "source": [
    "## 9: Take a look at the last 10 rows of each DataFrame in turn."
   ]
  },
  {
   "cell_type": "code",
   "execution_count": 8,
   "id": "6c454f82",
   "metadata": {
    "scrolled": false
   },
   "outputs": [
    {
     "data": {
      "text/html": [
       "<div>\n",
       "<style scoped>\n",
       "    .dataframe tbody tr th:only-of-type {\n",
       "        vertical-align: middle;\n",
       "    }\n",
       "\n",
       "    .dataframe tbody tr th {\n",
       "        vertical-align: top;\n",
       "    }\n",
       "\n",
       "    .dataframe thead th {\n",
       "        text-align: right;\n",
       "    }\n",
       "</style>\n",
       "<table border=\"1\" class=\"dataframe\">\n",
       "  <thead>\n",
       "    <tr style=\"text-align: right;\">\n",
       "      <th></th>\n",
       "      <th>Country or Area</th>\n",
       "      <th>Year</th>\n",
       "      <th>Value</th>\n",
       "      <th>Value Footnotes</th>\n",
       "    </tr>\n",
       "  </thead>\n",
       "  <tbody>\n",
       "    <tr>\n",
       "      <th>6858</th>\n",
       "      <td>Zimbabwe</td>\n",
       "      <td>1999</td>\n",
       "      <td>3600.849291</td>\n",
       "      <td>NaN</td>\n",
       "    </tr>\n",
       "    <tr>\n",
       "      <th>6859</th>\n",
       "      <td>Zimbabwe</td>\n",
       "      <td>1998</td>\n",
       "      <td>3653.920016</td>\n",
       "      <td>NaN</td>\n",
       "    </tr>\n",
       "    <tr>\n",
       "      <th>6860</th>\n",
       "      <td>Zimbabwe</td>\n",
       "      <td>1997</td>\n",
       "      <td>3580.048793</td>\n",
       "      <td>NaN</td>\n",
       "    </tr>\n",
       "    <tr>\n",
       "      <th>6861</th>\n",
       "      <td>Zimbabwe</td>\n",
       "      <td>1996</td>\n",
       "      <td>3520.430146</td>\n",
       "      <td>NaN</td>\n",
       "    </tr>\n",
       "    <tr>\n",
       "      <th>6862</th>\n",
       "      <td>Zimbabwe</td>\n",
       "      <td>1995</td>\n",
       "      <td>3226.413930</td>\n",
       "      <td>NaN</td>\n",
       "    </tr>\n",
       "    <tr>\n",
       "      <th>6863</th>\n",
       "      <td>Zimbabwe</td>\n",
       "      <td>1994</td>\n",
       "      <td>3263.934978</td>\n",
       "      <td>NaN</td>\n",
       "    </tr>\n",
       "    <tr>\n",
       "      <th>6864</th>\n",
       "      <td>Zimbabwe</td>\n",
       "      <td>1993</td>\n",
       "      <td>3033.504852</td>\n",
       "      <td>NaN</td>\n",
       "    </tr>\n",
       "    <tr>\n",
       "      <th>6865</th>\n",
       "      <td>Zimbabwe</td>\n",
       "      <td>1992</td>\n",
       "      <td>3054.889178</td>\n",
       "      <td>NaN</td>\n",
       "    </tr>\n",
       "    <tr>\n",
       "      <th>6866</th>\n",
       "      <td>Zimbabwe</td>\n",
       "      <td>1991</td>\n",
       "      <td>3426.598094</td>\n",
       "      <td>NaN</td>\n",
       "    </tr>\n",
       "    <tr>\n",
       "      <th>6867</th>\n",
       "      <td>Zimbabwe</td>\n",
       "      <td>1990</td>\n",
       "      <td>3324.348171</td>\n",
       "      <td>NaN</td>\n",
       "    </tr>\n",
       "  </tbody>\n",
       "</table>\n",
       "</div>"
      ],
      "text/plain": [
       "     Country or Area  Year        Value  Value Footnotes\n",
       "6858        Zimbabwe  1999  3600.849291              NaN\n",
       "6859        Zimbabwe  1998  3653.920016              NaN\n",
       "6860        Zimbabwe  1997  3580.048793              NaN\n",
       "6861        Zimbabwe  1996  3520.430146              NaN\n",
       "6862        Zimbabwe  1995  3226.413930              NaN\n",
       "6863        Zimbabwe  1994  3263.934978              NaN\n",
       "6864        Zimbabwe  1993  3033.504852              NaN\n",
       "6865        Zimbabwe  1992  3054.889178              NaN\n",
       "6866        Zimbabwe  1991  3426.598094              NaN\n",
       "6867        Zimbabwe  1990  3324.348171              NaN"
      ]
     },
     "execution_count": 8,
     "metadata": {},
     "output_type": "execute_result"
    }
   ],
   "source": [
    "gdp_df.tail(10)"
   ]
  },
  {
   "cell_type": "code",
   "execution_count": 9,
   "id": "aaa932ed",
   "metadata": {},
   "outputs": [
    {
     "data": {
      "text/html": [
       "<div>\n",
       "<style scoped>\n",
       "    .dataframe tbody tr th:only-of-type {\n",
       "        vertical-align: middle;\n",
       "    }\n",
       "\n",
       "    .dataframe tbody tr th {\n",
       "        vertical-align: top;\n",
       "    }\n",
       "\n",
       "    .dataframe thead th {\n",
       "        text-align: right;\n",
       "    }\n",
       "</style>\n",
       "<table border=\"1\" class=\"dataframe\">\n",
       "  <thead>\n",
       "    <tr style=\"text-align: right;\">\n",
       "      <th></th>\n",
       "      <th>Country or Area</th>\n",
       "      <th>Year</th>\n",
       "      <th>Value</th>\n",
       "      <th>Value Footnotes</th>\n",
       "    </tr>\n",
       "  </thead>\n",
       "  <tbody>\n",
       "    <tr>\n",
       "      <th>4485</th>\n",
       "      <td>Zimbabwe</td>\n",
       "      <td>2002</td>\n",
       "      <td>3.994356</td>\n",
       "      <td>NaN</td>\n",
       "    </tr>\n",
       "    <tr>\n",
       "      <th>4486</th>\n",
       "      <td>Zimbabwe</td>\n",
       "      <td>2001</td>\n",
       "      <td>0.799846</td>\n",
       "      <td>NaN</td>\n",
       "    </tr>\n",
       "    <tr>\n",
       "      <th>4487</th>\n",
       "      <td>Zimbabwe</td>\n",
       "      <td>2000</td>\n",
       "      <td>0.401434</td>\n",
       "      <td>NaN</td>\n",
       "    </tr>\n",
       "    <tr>\n",
       "      <th>4488</th>\n",
       "      <td>Zimbabwe</td>\n",
       "      <td>1999</td>\n",
       "      <td>0.161676</td>\n",
       "      <td>NaN</td>\n",
       "    </tr>\n",
       "    <tr>\n",
       "      <th>4489</th>\n",
       "      <td>Zimbabwe</td>\n",
       "      <td>1998</td>\n",
       "      <td>0.081648</td>\n",
       "      <td>NaN</td>\n",
       "    </tr>\n",
       "    <tr>\n",
       "      <th>4490</th>\n",
       "      <td>Zimbabwe</td>\n",
       "      <td>1997</td>\n",
       "      <td>0.033080</td>\n",
       "      <td>NaN</td>\n",
       "    </tr>\n",
       "    <tr>\n",
       "      <th>4491</th>\n",
       "      <td>Zimbabwe</td>\n",
       "      <td>1996</td>\n",
       "      <td>0.016790</td>\n",
       "      <td>NaN</td>\n",
       "    </tr>\n",
       "    <tr>\n",
       "      <th>4492</th>\n",
       "      <td>Zimbabwe</td>\n",
       "      <td>1995</td>\n",
       "      <td>0.007684</td>\n",
       "      <td>NaN</td>\n",
       "    </tr>\n",
       "    <tr>\n",
       "      <th>4493</th>\n",
       "      <td>Zimbabwe</td>\n",
       "      <td>1994</td>\n",
       "      <td>0.001739</td>\n",
       "      <td>NaN</td>\n",
       "    </tr>\n",
       "    <tr>\n",
       "      <th>4494</th>\n",
       "      <td>Zimbabwe</td>\n",
       "      <td>1990</td>\n",
       "      <td>0.000000</td>\n",
       "      <td>NaN</td>\n",
       "    </tr>\n",
       "  </tbody>\n",
       "</table>\n",
       "</div>"
      ],
      "text/plain": [
       "     Country or Area  Year     Value  Value Footnotes\n",
       "4485        Zimbabwe  2002  3.994356              NaN\n",
       "4486        Zimbabwe  2001  0.799846              NaN\n",
       "4487        Zimbabwe  2000  0.401434              NaN\n",
       "4488        Zimbabwe  1999  0.161676              NaN\n",
       "4489        Zimbabwe  1998  0.081648              NaN\n",
       "4490        Zimbabwe  1997  0.033080              NaN\n",
       "4491        Zimbabwe  1996  0.016790              NaN\n",
       "4492        Zimbabwe  1995  0.007684              NaN\n",
       "4493        Zimbabwe  1994  0.001739              NaN\n",
       "4494        Zimbabwe  1990  0.000000              NaN"
      ]
     },
     "execution_count": 9,
     "metadata": {},
     "output_type": "execute_result"
    }
   ],
   "source": [
    "internet_df.tail(10)"
   ]
  },
  {
   "cell_type": "markdown",
   "id": "d95f37e0",
   "metadata": {},
   "source": [
    "## 10: Drop the value footnotes column from both DataFrames. Check that this worked as expected."
   ]
  },
  {
   "cell_type": "code",
   "execution_count": 10,
   "id": "a5683312",
   "metadata": {},
   "outputs": [],
   "source": [
    "gdp_df = gdp_df.drop(labels=['Value Footnotes'], axis=1)"
   ]
  },
  {
   "cell_type": "code",
   "execution_count": 11,
   "id": "25fe6826",
   "metadata": {},
   "outputs": [],
   "source": [
    "internet_df = internet_df.drop(labels=['Value Footnotes'], axis=1)"
   ]
  },
  {
   "cell_type": "markdown",
   "id": "725c3182",
   "metadata": {},
   "source": [
    "## 11: Change the columns for the GDP Per Capita DataFrame to ‘Country’, ‘Year’, and ‘GDP_Per_Capita’."
   ]
  },
  {
   "cell_type": "code",
   "execution_count": 12,
   "id": "fcbf3a92",
   "metadata": {
    "scrolled": false
   },
   "outputs": [],
   "source": [
    "gdp_df = gdp_df.rename(columns = {'Country or Area': 'Country', 'Value': 'GDP_Per_Capita'})"
   ]
  },
  {
   "cell_type": "markdown",
   "id": "b142507b",
   "metadata": {},
   "source": [
    "## 12: Change the columns for the Internet Users DataFrame to ‘Country’, ‘Year’, and ‘Internet_Users_Pct’."
   ]
  },
  {
   "cell_type": "code",
   "execution_count": 13,
   "id": "34eec5ee",
   "metadata": {},
   "outputs": [],
   "source": [
    "internet_df = internet_df.rename(columns = {'Country or Area': 'Country', 'Value': 'Internet_Users_Pct'})"
   ]
  },
  {
   "cell_type": "markdown",
   "id": "f8fdfcd7",
   "metadata": {},
   "source": [
    "## 13: Merge the two DataFrames to one. Merge all rows from each of the two DataFrames. Call the new DataFrame gdp_and_internet_use."
   ]
  },
  {
   "cell_type": "code",
   "execution_count": 14,
   "id": "ffd763df",
   "metadata": {},
   "outputs": [
    {
     "name": "stdout",
     "output_type": "stream",
     "text": [
      "          Country  Year  GDP_Per_Capita  Internet_Users_Pct\n",
      "0     Afghanistan  2014     2102.385234            6.390000\n",
      "1     Afghanistan  2013     2116.465454            5.900000\n",
      "2     Afghanistan  2012     2075.491747            5.454545\n",
      "3     Afghanistan  2011     1904.559799            5.000000\n",
      "4     Afghanistan  2010     1957.029338            4.000000\n",
      "...           ...   ...             ...                 ...\n",
      "3453     Zimbabwe  1997     3580.048793            0.033080\n",
      "3454     Zimbabwe  1996     3520.430146            0.016790\n",
      "3455     Zimbabwe  1995     3226.413930            0.007684\n",
      "3456     Zimbabwe  1994     3263.934978            0.001739\n",
      "3457     Zimbabwe  1990     3324.348171            0.000000\n",
      "\n",
      "[3458 rows x 4 columns]\n"
     ]
    }
   ],
   "source": [
    "gdp_and_internet_use = pd.merge(gdp_df,internet_df,on=['Country','Year'])\n",
    "print(gdp_and_internet_use)"
   ]
  },
  {
   "cell_type": "markdown",
   "id": "8c437b02",
   "metadata": {},
   "source": [
    "## 14: Look at the first five rows of your new DataFrame to confirm it merged correctly."
   ]
  },
  {
   "cell_type": "code",
   "execution_count": 15,
   "id": "a92cc4b8",
   "metadata": {
    "scrolled": true
   },
   "outputs": [
    {
     "data": {
      "text/html": [
       "<div>\n",
       "<style scoped>\n",
       "    .dataframe tbody tr th:only-of-type {\n",
       "        vertical-align: middle;\n",
       "    }\n",
       "\n",
       "    .dataframe tbody tr th {\n",
       "        vertical-align: top;\n",
       "    }\n",
       "\n",
       "    .dataframe thead th {\n",
       "        text-align: right;\n",
       "    }\n",
       "</style>\n",
       "<table border=\"1\" class=\"dataframe\">\n",
       "  <thead>\n",
       "    <tr style=\"text-align: right;\">\n",
       "      <th></th>\n",
       "      <th>Country</th>\n",
       "      <th>Year</th>\n",
       "      <th>GDP_Per_Capita</th>\n",
       "      <th>Internet_Users_Pct</th>\n",
       "    </tr>\n",
       "  </thead>\n",
       "  <tbody>\n",
       "    <tr>\n",
       "      <th>0</th>\n",
       "      <td>Afghanistan</td>\n",
       "      <td>2014</td>\n",
       "      <td>2102.385234</td>\n",
       "      <td>6.390000</td>\n",
       "    </tr>\n",
       "    <tr>\n",
       "      <th>1</th>\n",
       "      <td>Afghanistan</td>\n",
       "      <td>2013</td>\n",
       "      <td>2116.465454</td>\n",
       "      <td>5.900000</td>\n",
       "    </tr>\n",
       "    <tr>\n",
       "      <th>2</th>\n",
       "      <td>Afghanistan</td>\n",
       "      <td>2012</td>\n",
       "      <td>2075.491747</td>\n",
       "      <td>5.454545</td>\n",
       "    </tr>\n",
       "    <tr>\n",
       "      <th>3</th>\n",
       "      <td>Afghanistan</td>\n",
       "      <td>2011</td>\n",
       "      <td>1904.559799</td>\n",
       "      <td>5.000000</td>\n",
       "    </tr>\n",
       "    <tr>\n",
       "      <th>4</th>\n",
       "      <td>Afghanistan</td>\n",
       "      <td>2010</td>\n",
       "      <td>1957.029338</td>\n",
       "      <td>4.000000</td>\n",
       "    </tr>\n",
       "  </tbody>\n",
       "</table>\n",
       "</div>"
      ],
      "text/plain": [
       "       Country  Year  GDP_Per_Capita  Internet_Users_Pct\n",
       "0  Afghanistan  2014     2102.385234            6.390000\n",
       "1  Afghanistan  2013     2116.465454            5.900000\n",
       "2  Afghanistan  2012     2075.491747            5.454545\n",
       "3  Afghanistan  2011     1904.559799            5.000000\n",
       "4  Afghanistan  2010     1957.029338            4.000000"
      ]
     },
     "execution_count": 15,
     "metadata": {},
     "output_type": "execute_result"
    }
   ],
   "source": [
    "gdp_and_internet_use.head()"
   ]
  },
  {
   "cell_type": "markdown",
   "id": "8910fbd7",
   "metadata": {},
   "source": [
    "## 15: Look at the last five rows to make sure the data is clean and as expected."
   ]
  },
  {
   "cell_type": "code",
   "execution_count": 16,
   "id": "6fe0e364",
   "metadata": {
    "scrolled": true
   },
   "outputs": [
    {
     "data": {
      "text/html": [
       "<div>\n",
       "<style scoped>\n",
       "    .dataframe tbody tr th:only-of-type {\n",
       "        vertical-align: middle;\n",
       "    }\n",
       "\n",
       "    .dataframe tbody tr th {\n",
       "        vertical-align: top;\n",
       "    }\n",
       "\n",
       "    .dataframe thead th {\n",
       "        text-align: right;\n",
       "    }\n",
       "</style>\n",
       "<table border=\"1\" class=\"dataframe\">\n",
       "  <thead>\n",
       "    <tr style=\"text-align: right;\">\n",
       "      <th></th>\n",
       "      <th>Country</th>\n",
       "      <th>Year</th>\n",
       "      <th>GDP_Per_Capita</th>\n",
       "      <th>Internet_Users_Pct</th>\n",
       "    </tr>\n",
       "  </thead>\n",
       "  <tbody>\n",
       "    <tr>\n",
       "      <th>3453</th>\n",
       "      <td>Zimbabwe</td>\n",
       "      <td>1997</td>\n",
       "      <td>3580.048793</td>\n",
       "      <td>0.033080</td>\n",
       "    </tr>\n",
       "    <tr>\n",
       "      <th>3454</th>\n",
       "      <td>Zimbabwe</td>\n",
       "      <td>1996</td>\n",
       "      <td>3520.430146</td>\n",
       "      <td>0.016790</td>\n",
       "    </tr>\n",
       "    <tr>\n",
       "      <th>3455</th>\n",
       "      <td>Zimbabwe</td>\n",
       "      <td>1995</td>\n",
       "      <td>3226.413930</td>\n",
       "      <td>0.007684</td>\n",
       "    </tr>\n",
       "    <tr>\n",
       "      <th>3456</th>\n",
       "      <td>Zimbabwe</td>\n",
       "      <td>1994</td>\n",
       "      <td>3263.934978</td>\n",
       "      <td>0.001739</td>\n",
       "    </tr>\n",
       "    <tr>\n",
       "      <th>3457</th>\n",
       "      <td>Zimbabwe</td>\n",
       "      <td>1990</td>\n",
       "      <td>3324.348171</td>\n",
       "      <td>0.000000</td>\n",
       "    </tr>\n",
       "  </tbody>\n",
       "</table>\n",
       "</div>"
      ],
      "text/plain": [
       "       Country  Year  GDP_Per_Capita  Internet_Users_Pct\n",
       "3453  Zimbabwe  1997     3580.048793            0.033080\n",
       "3454  Zimbabwe  1996     3520.430146            0.016790\n",
       "3455  Zimbabwe  1995     3226.413930            0.007684\n",
       "3456  Zimbabwe  1994     3263.934978            0.001739\n",
       "3457  Zimbabwe  1990     3324.348171            0.000000"
      ]
     },
     "execution_count": 16,
     "metadata": {},
     "output_type": "execute_result"
    }
   ],
   "source": [
    "gdp_and_internet_use.tail()"
   ]
  },
  {
   "cell_type": "markdown",
   "id": "f1dd0696",
   "metadata": {},
   "source": [
    "## 16: Subset the combined DataFrame to keep only the data for 2004, 2009, and 2014. Check that this happened correctly."
   ]
  },
  {
   "cell_type": "code",
   "execution_count": 17,
   "id": "7c6bee47",
   "metadata": {},
   "outputs": [],
   "source": [
    "gdp_and_internet_use_sub = gdp_and_internet_use.loc[gdp_and_internet_use['Year'].isin([2004, 2009, 2014])]"
   ]
  },
  {
   "cell_type": "code",
   "execution_count": 18,
   "id": "787abfb6",
   "metadata": {
    "scrolled": false
   },
   "outputs": [
    {
     "data": {
      "text/html": [
       "<div>\n",
       "<style scoped>\n",
       "    .dataframe tbody tr th:only-of-type {\n",
       "        vertical-align: middle;\n",
       "    }\n",
       "\n",
       "    .dataframe tbody tr th {\n",
       "        vertical-align: top;\n",
       "    }\n",
       "\n",
       "    .dataframe thead th {\n",
       "        text-align: right;\n",
       "    }\n",
       "</style>\n",
       "<table border=\"1\" class=\"dataframe\">\n",
       "  <thead>\n",
       "    <tr style=\"text-align: right;\">\n",
       "      <th></th>\n",
       "      <th>Country</th>\n",
       "      <th>Year</th>\n",
       "      <th>GDP_Per_Capita</th>\n",
       "      <th>Internet_Users_Pct</th>\n",
       "    </tr>\n",
       "  </thead>\n",
       "  <tbody>\n",
       "    <tr>\n",
       "      <th>0</th>\n",
       "      <td>Afghanistan</td>\n",
       "      <td>2014</td>\n",
       "      <td>2102.385234</td>\n",
       "      <td>6.390000</td>\n",
       "    </tr>\n",
       "    <tr>\n",
       "      <th>5</th>\n",
       "      <td>Afghanistan</td>\n",
       "      <td>2009</td>\n",
       "      <td>1758.904043</td>\n",
       "      <td>3.550000</td>\n",
       "    </tr>\n",
       "    <tr>\n",
       "      <th>10</th>\n",
       "      <td>Afghanistan</td>\n",
       "      <td>2004</td>\n",
       "      <td>1200.278256</td>\n",
       "      <td>0.105809</td>\n",
       "    </tr>\n",
       "    <tr>\n",
       "      <th>13</th>\n",
       "      <td>Albania</td>\n",
       "      <td>2014</td>\n",
       "      <td>11623.866679</td>\n",
       "      <td>60.100000</td>\n",
       "    </tr>\n",
       "    <tr>\n",
       "      <th>18</th>\n",
       "      <td>Albania</td>\n",
       "      <td>2009</td>\n",
       "      <td>10346.864199</td>\n",
       "      <td>41.200000</td>\n",
       "    </tr>\n",
       "    <tr>\n",
       "      <th>...</th>\n",
       "      <td>...</td>\n",
       "      <td>...</td>\n",
       "      <td>...</td>\n",
       "      <td>...</td>\n",
       "    </tr>\n",
       "    <tr>\n",
       "      <th>3419</th>\n",
       "      <td>Zambia</td>\n",
       "      <td>2009</td>\n",
       "      <td>2917.516220</td>\n",
       "      <td>6.310000</td>\n",
       "    </tr>\n",
       "    <tr>\n",
       "      <th>3424</th>\n",
       "      <td>Zambia</td>\n",
       "      <td>2004</td>\n",
       "      <td>2261.766537</td>\n",
       "      <td>2.013550</td>\n",
       "    </tr>\n",
       "    <tr>\n",
       "      <th>3436</th>\n",
       "      <td>Zimbabwe</td>\n",
       "      <td>2014</td>\n",
       "      <td>2955.240287</td>\n",
       "      <td>19.890000</td>\n",
       "    </tr>\n",
       "    <tr>\n",
       "      <th>3441</th>\n",
       "      <td>Zimbabwe</td>\n",
       "      <td>2009</td>\n",
       "      <td>1925.364381</td>\n",
       "      <td>11.360000</td>\n",
       "    </tr>\n",
       "    <tr>\n",
       "      <th>3446</th>\n",
       "      <td>Zimbabwe</td>\n",
       "      <td>2004</td>\n",
       "      <td>2480.859342</td>\n",
       "      <td>6.564045</td>\n",
       "    </tr>\n",
       "  </tbody>\n",
       "</table>\n",
       "<p>482 rows × 4 columns</p>\n",
       "</div>"
      ],
      "text/plain": [
       "          Country  Year  GDP_Per_Capita  Internet_Users_Pct\n",
       "0     Afghanistan  2014     2102.385234            6.390000\n",
       "5     Afghanistan  2009     1758.904043            3.550000\n",
       "10    Afghanistan  2004     1200.278256            0.105809\n",
       "13        Albania  2014    11623.866679           60.100000\n",
       "18        Albania  2009    10346.864199           41.200000\n",
       "...           ...   ...             ...                 ...\n",
       "3419       Zambia  2009     2917.516220            6.310000\n",
       "3424       Zambia  2004     2261.766537            2.013550\n",
       "3436     Zimbabwe  2014     2955.240287           19.890000\n",
       "3441     Zimbabwe  2009     1925.364381           11.360000\n",
       "3446     Zimbabwe  2004     2480.859342            6.564045\n",
       "\n",
       "[482 rows x 4 columns]"
      ]
     },
     "execution_count": 18,
     "metadata": {},
     "output_type": "execute_result"
    }
   ],
   "source": [
    "gdp_and_internet_use_sub"
   ]
  },
  {
   "cell_type": "markdown",
   "id": "6e0e3ffa",
   "metadata": {},
   "source": [
    "## 17: Create three new DataFrames, one for 2004, one for 2009, and one for 2014. Give them meaningful names that aren't too long."
   ]
  },
  {
   "cell_type": "code",
   "execution_count": 19,
   "id": "55ace7ab",
   "metadata": {},
   "outputs": [
    {
     "name": "stdout",
     "output_type": "stream",
     "text": [
      "                  Country  Year  GDP_Per_Capita  Internet_Users_Pct\n",
      "10            Afghanistan  2004     1200.278256            0.105809\n",
      "23                Albania  2004     7604.838002            2.420388\n",
      "44                Algeria  2004    10058.435939            4.634475\n",
      "66                 Angola  2004     5593.241537            0.464815\n",
      "86    Antigua and Barbuda  2004    18745.681534           24.266544\n",
      "...                   ...   ...             ...                 ...\n",
      "3361              Uruguay  2004    12479.966871           17.063098\n",
      "3383           Uzbekistan  2004     3221.189333            2.593725\n",
      "3404              Vanuatu  2004     2792.356252            4.746603\n",
      "3424               Zambia  2004     2261.766537            2.013550\n",
      "3446             Zimbabwe  2004     2480.859342            6.564045\n",
      "\n",
      "[157 rows x 4 columns]\n"
     ]
    }
   ],
   "source": [
    "four = gdp_and_internet_use_sub.loc[gdp_and_internet_use['Year'] == 2004]\n",
    "print(four)"
   ]
  },
  {
   "cell_type": "code",
   "execution_count": 20,
   "id": "3661b816",
   "metadata": {},
   "outputs": [
    {
     "name": "stdout",
     "output_type": "stream",
     "text": [
      "                  Country  Year  GDP_Per_Capita  Internet_Users_Pct\n",
      "5             Afghanistan  2009     1758.904043            3.550000\n",
      "18                Albania  2009    10346.864199           41.200000\n",
      "39                Algeria  2009    10782.361398           11.230000\n",
      "61                 Angola  2009     7643.493749            6.000000\n",
      "81    Antigua and Barbuda  2009    20046.839017           42.000000\n",
      "...                   ...   ...             ...                 ...\n",
      "3356              Uruguay  2009    16477.823860           41.800000\n",
      "3378           Uzbekistan  2009     4446.863606           17.058216\n",
      "3399              Vanuatu  2009     3270.529800            7.500000\n",
      "3419               Zambia  2009     2917.516220            6.310000\n",
      "3441             Zimbabwe  2009     1925.364381           11.360000\n",
      "\n",
      "[162 rows x 4 columns]\n"
     ]
    }
   ],
   "source": [
    "nine = gdp_and_internet_use_sub.loc[gdp_and_internet_use['Year'] == 2009]\n",
    "print(nine)"
   ]
  },
  {
   "cell_type": "code",
   "execution_count": 21,
   "id": "c4604623",
   "metadata": {},
   "outputs": [
    {
     "name": "stdout",
     "output_type": "stream",
     "text": [
      "                  Country  Year  GDP_Per_Capita  Internet_Users_Pct\n",
      "0             Afghanistan  2014     2102.385234                6.39\n",
      "13                Albania  2014    11623.866679               60.10\n",
      "34                Algeria  2014    11512.705405               18.09\n",
      "56                 Angola  2014     8239.828837               21.26\n",
      "76    Antigua and Barbuda  2014    18104.241470               64.00\n",
      "...                   ...   ...             ...                 ...\n",
      "3351              Uruguay  2014    20582.168953               61.46\n",
      "3373           Uzbekistan  2014     5764.492705               43.55\n",
      "3394              Vanuatu  2014     3116.077025               18.80\n",
      "3414               Zambia  2014     3450.046561               17.34\n",
      "3436             Zimbabwe  2014     2955.240287               19.89\n",
      "\n",
      "[163 rows x 4 columns]\n"
     ]
    }
   ],
   "source": [
    "fourteen = gdp_and_internet_use_sub.loc[gdp_and_internet_use['Year'] == 2014]\n",
    "print(fourteen)"
   ]
  },
  {
   "cell_type": "markdown",
   "id": "f331b6f4",
   "metadata": {},
   "source": [
    "## 18: Which country had the highest percentage of internet users in 2014? What was the percentage? (Try typing the first 3 letters of your DataFrame name and hitting the tab key for auto-complete options)."
   ]
  },
  {
   "cell_type": "code",
   "execution_count": 22,
   "id": "c95a6337",
   "metadata": {},
   "outputs": [
    {
     "name": "stdout",
     "output_type": "stream",
     "text": [
      "          Country  Year  GDP_Per_Capita  Internet_Users_Pct\n",
      "1381      Iceland  2014    49652.149500               98.16\n",
      "372       Bermuda  2014    77361.104881               96.80\n",
      "2296       Norway  2014    62589.373548               96.30\n",
      "854       Denmark  2014    52214.537753               95.99\n",
      "1798   Luxembourg  2014   108760.916030               94.67\n",
      "...           ...   ...             ...                 ...\n",
      "2122      Myanmar  2014     4020.037369                2.10\n",
      "2256        Niger  2014     1127.615541                1.95\n",
      "1261       Guinea  2014     2061.760973                1.72\n",
      "540       Burundi  2014      886.235777                1.38\n",
      "3087  Timor-Leste  2014     3264.568070                1.14\n",
      "\n",
      "[163 rows x 4 columns]\n"
     ]
    },
    {
     "data": {
      "text/plain": [
       "98.16"
      ]
     },
     "execution_count": 22,
     "metadata": {},
     "output_type": "execute_result"
    }
   ],
   "source": [
    "print(fourteen.sort_values(by = 'Internet_Users_Pct', ascending = False)),\n",
    "fourteen.max(axis=0)['Internet_Users_Pct']"
   ]
  },
  {
   "cell_type": "markdown",
   "id": "ec41e6ae",
   "metadata": {},
   "source": [
    "### Iceland with 98.16 pct"
   ]
  },
  {
   "cell_type": "markdown",
   "id": "a729d4ac",
   "metadata": {},
   "source": [
    "## 19: Which country had the lowest percentage of internet users in 2014? What was the percentage?"
   ]
  },
  {
   "cell_type": "code",
   "execution_count": 23,
   "id": "c883dea8",
   "metadata": {
    "scrolled": true
   },
   "outputs": [
    {
     "name": "stdout",
     "output_type": "stream",
     "text": [
      "           Country  Year  GDP_Per_Capita  Internet_Users_Pct\n",
      "3087   Timor-Leste  2014     3264.568070                1.14\n",
      "540        Burundi  2014      886.235777                1.38\n",
      "1261        Guinea  2014     2061.760973                1.72\n",
      "2256         Niger  2014     1127.615541                1.95\n",
      "2728  Sierra Leone  2014     1997.511853                2.10\n",
      "...            ...   ...             ...                 ...\n",
      "1798    Luxembourg  2014   108760.916030               94.67\n",
      "854        Denmark  2014    52214.537753               95.99\n",
      "2296        Norway  2014    62589.373548               96.30\n",
      "372        Bermuda  2014    77361.104881               96.80\n",
      "1381       Iceland  2014    49652.149500               98.16\n",
      "\n",
      "[163 rows x 4 columns]\n",
      "1.14\n"
     ]
    }
   ],
   "source": [
    "print(fourteen.sort_values(by = 'Internet_Users_Pct')),\n",
    "print(fourteen.min(axis=0)['Internet_Users_Pct'])"
   ]
  },
  {
   "cell_type": "markdown",
   "id": "7ee2d6f9",
   "metadata": {},
   "source": [
    "### Timor-Leste with 1.14 pct"
   ]
  },
  {
   "cell_type": "markdown",
   "id": "52e56e11",
   "metadata": {},
   "source": [
    "## 20: Repeat for 2004 and 2009."
   ]
  },
  {
   "cell_type": "code",
   "execution_count": 24,
   "id": "e7c5a6e7",
   "metadata": {},
   "outputs": [
    {
     "name": "stdout",
     "output_type": "stream",
     "text": [
      "For 2004\n",
      "          Country  Year  GDP_Per_Capita  Internet_Users_Pct\n",
      "2132      Myanmar  2004     1696.881760            0.024337\n",
      "1759      Liberia  2004     1181.546158            0.031011\n",
      "3035   Tajikistan  2004     1737.743630            0.077480\n",
      "10    Afghanistan  2004     1200.278256            0.105809\n",
      "1019     Ethiopia  2004      793.093786            0.155335\n",
      "...           ...   ...             ...                 ...\n",
      "1063      Finland  2004    43760.279146           72.390000\n",
      "2306       Norway  2004    60893.410993           77.690000\n",
      "864       Denmark  2004    50607.628971           80.930000\n",
      "1391      Iceland  2004    45145.545658           83.880000\n",
      "2985       Sweden  2004    44496.023401           83.890000\n",
      "\n",
      "[157 rows x 4 columns]\n",
      "Min usage=Myanmar\n",
      "0.024337392002823\n",
      "Max usage=Sweden\n",
      "83.89\n"
     ]
    },
    {
     "data": {
      "text/plain": [
       "(None, None)"
      ]
     },
     "execution_count": 24,
     "metadata": {},
     "output_type": "execute_result"
    }
   ],
   "source": [
    "print(\"For 2004\"),\n",
    "print(four.sort_values(by = 'Internet_Users_Pct')),\n",
    "print('Min usage' + '=' + 'Myanmar'), print(four.min(axis=0)['Internet_Users_Pct']),\n",
    "print('Max usage' + '=' + 'Sweden'), print(four.max(axis=0)['Internet_Users_Pct'])"
   ]
  },
  {
   "cell_type": "code",
   "execution_count": 25,
   "id": "878f3c9a",
   "metadata": {},
   "outputs": [
    {
     "name": "stdout",
     "output_type": "stream",
     "text": [
      "For 2009\n",
      "           Country  Year  GDP_Per_Capita  Internet_Users_Pct\n",
      "3092   Timor-Leste  2009     2724.770973            0.185252\n",
      "2127       Myanmar  2009     2874.780227            0.220000\n",
      "2733  Sierra Leone  2009     1372.392285            0.260000\n",
      "570       Cambodia  2009     2603.583778            0.530000\n",
      "1014      Ethiopia  2009     1150.206179            0.540000\n",
      "...            ...   ...             ...                 ...\n",
      "1803    Luxembourg  2009   104932.811953           87.310000\n",
      "2190   Netherlands  2009    51772.424928           89.630000\n",
      "2980        Sweden  2009    45638.035577           91.000000\n",
      "2301        Norway  2009    61886.564498           92.080000\n",
      "1386       Iceland  2009    48177.084123           93.000000\n",
      "\n",
      "[162 rows x 4 columns]\n",
      "Min usage=Myanmar\n",
      "0.185251509799805\n",
      "Max usage=Sweden\n",
      "93.0\n"
     ]
    },
    {
     "data": {
      "text/plain": [
       "(None, None)"
      ]
     },
     "execution_count": 25,
     "metadata": {},
     "output_type": "execute_result"
    }
   ],
   "source": [
    "print(\"For 2009\"),\n",
    "print(nine.sort_values(by = 'Internet_Users_Pct')),\n",
    "print('Min usage' + '=' + 'Myanmar'), print(nine.min(axis=0)['Internet_Users_Pct']),\n",
    "print('Max usage' + '=' + 'Sweden'), print(nine.max(axis=0)['Internet_Users_Pct'])"
   ]
  },
  {
   "cell_type": "markdown",
   "id": "13efc472",
   "metadata": {},
   "source": [
    "## 21: Which country had the highest gdp per capita in 2014? What was the gdp per capita?"
   ]
  },
  {
   "cell_type": "code",
   "execution_count": 26,
   "id": "9b175b52",
   "metadata": {},
   "outputs": [
    {
     "name": "stdout",
     "output_type": "stream",
     "text": [
      "             Country  Year  GDP_Per_Capita  Internet_Users_Pct\n",
      "1798      Luxembourg  2014   108760.916030               94.67\n",
      "2542           Qatar  2014    95578.416973               91.49\n",
      "2751       Singapore  2014    87808.663157               82.00\n",
      "372          Bermuda  2014    77361.104881               96.80\n",
      "627   Cayman Islands  2014    66207.447230               74.10\n",
      "...              ...   ...             ...                 ...\n",
      "3098            Togo  2014     1404.132938                5.70\n",
      "2102      Mozambique  2014     1217.090210                5.94\n",
      "2256           Niger  2014     1127.615541                1.95\n",
      "1842          Malawi  2014     1027.208496                5.83\n",
      "540          Burundi  2014      886.235777                1.38\n",
      "\n",
      "[163 rows x 4 columns]\n",
      "highest\n",
      "108760.916030081\n"
     ]
    },
    {
     "data": {
      "text/plain": [
       "(None, None)"
      ]
     },
     "execution_count": 26,
     "metadata": {},
     "output_type": "execute_result"
    }
   ],
   "source": [
    "print(fourteen.sort_values(by = 'GDP_Per_Capita', ascending = False)),\n",
    "print('highest'), print(fourteen.max(axis=0)['GDP_Per_Capita'])"
   ]
  },
  {
   "cell_type": "markdown",
   "id": "72c793b7",
   "metadata": {},
   "source": [
    "### Luxembourg with 108760.916030 "
   ]
  },
  {
   "cell_type": "markdown",
   "id": "978794fc",
   "metadata": {},
   "source": [
    "## 22: Which country had the lowest gdp per capita in 2014? What was the gdp per capita?"
   ]
  },
  {
   "cell_type": "code",
   "execution_count": 27,
   "id": "9a679e7a",
   "metadata": {},
   "outputs": [
    {
     "name": "stdout",
     "output_type": "stream",
     "text": [
      "             Country  Year  GDP_Per_Capita  Internet_Users_Pct\n",
      "540          Burundi  2014      886.235777                1.38\n",
      "1842          Malawi  2014     1027.208496                5.83\n",
      "2256           Niger  2014     1127.615541                1.95\n",
      "2102      Mozambique  2014     1217.090210                5.94\n",
      "3098            Togo  2014     1404.132938                5.70\n",
      "...              ...   ...             ...                 ...\n",
      "627   Cayman Islands  2014    66207.447230               74.10\n",
      "372          Bermuda  2014    77361.104881               96.80\n",
      "2751       Singapore  2014    87808.663157               82.00\n",
      "2542           Qatar  2014    95578.416973               91.49\n",
      "1798      Luxembourg  2014   108760.916030               94.67\n",
      "\n",
      "[163 rows x 4 columns]\n",
      "Lowest\n",
      "886.23577677556\n"
     ]
    },
    {
     "data": {
      "text/plain": [
       "(None, None)"
      ]
     },
     "execution_count": 27,
     "metadata": {},
     "output_type": "execute_result"
    }
   ],
   "source": [
    "print(fourteen.sort_values(by = 'GDP_Per_Capita')),\n",
    "print('Lowest'), print(fourteen.min(axis=0)['GDP_Per_Capita'])"
   ]
  },
  {
   "cell_type": "markdown",
   "id": "80153ec9",
   "metadata": {},
   "source": [
    "### Burundi with 886.235777"
   ]
  },
  {
   "cell_type": "markdown",
   "id": "fa17aff9",
   "metadata": {},
   "source": [
    "## 23: Create some scatterplots:"
   ]
  },
  {
   "cell_type": "markdown",
   "id": "8c4fb6a5",
   "metadata": {},
   "source": [
    "## a. 2004 Percent Using the Internet vs GDP Per Capita"
   ]
  },
  {
   "cell_type": "code",
   "execution_count": 28,
   "id": "b32c5a0e",
   "metadata": {},
   "outputs": [
    {
     "data": {
      "text/plain": [
       "Text(0, 0.5, 'GDP_Per_Capita')"
      ]
     },
     "execution_count": 28,
     "metadata": {},
     "output_type": "execute_result"
    },
    {
     "data": {
      "image/png": "[encoded data removed]",
      "text/plain": [
       "<Figure size 432x288 with 1 Axes>"
      ]
     },
     "metadata": {
      "needs_background": "light"
     },
     "output_type": "display_data"
    }
   ],
   "source": [
    "plt.scatter(x = 'Internet_Users_Pct', y = 'GDP_Per_Capita', data = four),\n",
    "plt.xlabel('Internet_Users_Pct')\n",
    "plt.ylabel('GDP_Per_Capita')"
   ]
  },
  {
   "cell_type": "markdown",
   "id": "4f8f9aa0",
   "metadata": {},
   "source": [
    "## b. 2009 Percent Using the Internet vs GDP Per Capita"
   ]
  },
  {
   "cell_type": "code",
   "execution_count": 29,
   "id": "7c2d5035",
   "metadata": {},
   "outputs": [
    {
     "data": {
      "text/plain": [
       "Text(0, 0.5, 'GDP_Per_Capita')"
      ]
     },
     "execution_count": 29,
     "metadata": {},
     "output_type": "execute_result"
    },
    {
     "data": {
      "image/png": "[encoded data removed]",
      "text/plain": [
       "<Figure size 432x288 with 1 Axes>"
      ]
     },
     "metadata": {
      "needs_background": "light"
     },
     "output_type": "display_data"
    }
   ],
   "source": [
    "plt.scatter(x = 'Internet_Users_Pct', y = 'GDP_Per_Capita', data = nine),\n",
    "plt.xlabel('Internet_Users_Pct')\n",
    "plt.ylabel('GDP_Per_Capita')"
   ]
  },
  {
   "cell_type": "markdown",
   "id": "5a08285e",
   "metadata": {},
   "source": [
    "## c. 2014 Percent Using the Internet vs GDP Per Capita"
   ]
  },
  {
   "cell_type": "code",
   "execution_count": 30,
   "id": "33c7c178",
   "metadata": {},
   "outputs": [
    {
     "data": {
      "text/plain": [
       "Text(0, 0.5, 'GDP_Per_Capita')"
      ]
     },
     "execution_count": 30,
     "metadata": {},
     "output_type": "execute_result"
    },
    {
     "data": {
      "image/png": "[encoded data removed]",
      "text/plain": [
       "<Figure size 432x288 with 1 Axes>"
      ]
     },
     "metadata": {
      "needs_background": "light"
     },
     "output_type": "display_data"
    }
   ],
   "source": [
    "plt.scatter(x = 'Internet_Users_Pct', y = 'GDP_Per_Capita', data = fourteen),\n",
    "plt.xlabel('Internet_Users_Pct')\n",
    "plt.ylabel('GDP_Per_Capita')"
   ]
  },
  {
   "cell_type": "markdown",
   "id": "5d4ef0fa",
   "metadata": {},
   "source": [
    "## 24: Are there differences across years? What do the plots tell you about any relationship between these two variables? Enter your observations as a markdown cell."
   ]
  },
  {
   "cell_type": "markdown",
   "id": "a37ebb3e",
   "metadata": {},
   "source": [
    "### For all 3 years, it seems that an increase in GDP_per_capita is correlated with the increase of Internet_users_pct"
   ]
  },
  {
   "cell_type": "markdown",
   "id": "9fcc3e0c",
   "metadata": {},
   "source": [
    "## 25: Look at the distribution of gdp per capita values for 2014. Is it unimodal?"
   ]
  },
  {
   "cell_type": "code",
   "execution_count": 31,
   "id": "fd8aa35b",
   "metadata": {
    "scrolled": true
   },
   "outputs": [
    {
     "data": {
      "text/plain": [
       "array([[<AxesSubplot:title={'center':'GDP_Per_Capita'}>]], dtype=object)"
      ]
     },
     "execution_count": 31,
     "metadata": {},
     "output_type": "execute_result"
    },
    {
     "data": {
      "image/png": "[encoded data removed]",
      "text/plain": [
       "<Figure size 432x288 with 1 Axes>"
      ]
     },
     "metadata": {
      "needs_background": "light"
     },
     "output_type": "display_data"
    }
   ],
   "source": [
    "fourteen.hist('GDP_Per_Capita', bins = 10)"
   ]
  },
  {
   "cell_type": "markdown",
   "id": "68451057",
   "metadata": {},
   "source": [
    "### Yes"
   ]
  },
  {
   "cell_type": "markdown",
   "id": "a8ecfd70",
   "metadata": {},
   "source": [
    "## 26: Look at the distribution of Internet Use for 2014. Is it unimodal?"
   ]
  },
  {
   "cell_type": "code",
   "execution_count": 32,
   "id": "8d2bd9fd",
   "metadata": {},
   "outputs": [
    {
     "data": {
      "text/plain": [
       "array([[<AxesSubplot:title={'center':'Internet_Users_Pct'}>]],\n",
       "      dtype=object)"
      ]
     },
     "execution_count": 32,
     "metadata": {},
     "output_type": "execute_result"
    },
    {
     "data": {
      "image/png": "[encoded data removed]",
      "text/plain": [
       "<Figure size 432x288 with 1 Axes>"
      ]
     },
     "metadata": {
      "needs_background": "light"
     },
     "output_type": "display_data"
    }
   ],
   "source": [
    "fourteen.hist('Internet_Users_Pct', bins = 15)"
   ]
  },
  {
   "cell_type": "markdown",
   "id": "7ea96c39",
   "metadata": {},
   "source": [
    "### No"
   ]
  },
  {
   "cell_type": "markdown",
   "id": "39bb08a3",
   "metadata": {},
   "source": [
    "## 27: What are the top 5 countries in terms of internet use in 2014?"
   ]
  },
  {
   "cell_type": "code",
   "execution_count": 33,
   "id": "46d36967",
   "metadata": {},
   "outputs": [
    {
     "name": "stdout",
     "output_type": "stream",
     "text": [
      "         Country  Year  GDP_Per_Capita  Internet_Users_Pct\n",
      "1381     Iceland  2014    49652.149500               98.16\n",
      "372      Bermuda  2014    77361.104881               96.80\n",
      "2296      Norway  2014    62589.373548               96.30\n",
      "854      Denmark  2014    52214.537753               95.99\n",
      "1798  Luxembourg  2014   108760.916030               94.67\n"
     ]
    }
   ],
   "source": [
    "top5_int_14 = fourteen.sort_values(by = 'Internet_Users_Pct', ascending= False).head()\n",
    "print(top5_int_14)"
   ]
  },
  {
   "cell_type": "markdown",
   "id": "33e1025e",
   "metadata": {},
   "source": [
    "## 28: Create a DataFrame called top_5_internet from the combined DataFrame that has all three years for the 5 countries that had the greatest 2014 internet usage. You should have 15 rows. Check that this is true."
   ]
  },
  {
   "cell_type": "code",
   "execution_count": 34,
   "id": "ce0b70c3",
   "metadata": {},
   "outputs": [
    {
     "name": "stdout",
     "output_type": "stream",
     "text": [
      "         Country  Year  GDP_Per_Capita  Internet_Users_Pct\n",
      "372      Bermuda  2014    77361.104881           96.800000\n",
      "377      Bermuda  2009    89961.982744           83.250000\n",
      "382      Bermuda  2004    90195.811033           60.990867\n",
      "854      Denmark  2014    52214.537753           95.990000\n",
      "859      Denmark  2009    50274.075696           86.840000\n",
      "864      Denmark  2004    50607.628971           80.930000\n",
      "1381     Iceland  2014    49652.149500           98.160000\n",
      "1386     Iceland  2009    48177.084123           93.000000\n",
      "1391     Iceland  2004    45145.545658           83.880000\n",
      "1798  Luxembourg  2014   108760.916030           94.670000\n",
      "1803  Luxembourg  2009   104932.811953           87.310000\n",
      "1808  Luxembourg  2004   102708.212547           65.880000\n",
      "2296      Norway  2014    62589.373548           96.300000\n",
      "2301      Norway  2009    61886.564498           92.080000\n",
      "2306      Norway  2004    60893.410993           77.690000\n"
     ]
    }
   ],
   "source": [
    "top_int_countries = gdp_and_internet_use_sub['Country'].isin(['Iceland', 'Bermuda', 'Norway', 'Denmark', 'Luxembourg'])\n",
    "top_5_internet = gdp_and_internet_use_sub[top_int_countries]\n",
    "print(top_5_internet)"
   ]
  },
  {
   "cell_type": "code",
   "execution_count": 35,
   "id": "9cd0411b",
   "metadata": {},
   "outputs": [
    {
     "data": {
      "text/plain": [
       "(15, 4)"
      ]
     },
     "execution_count": 35,
     "metadata": {},
     "output_type": "execute_result"
    }
   ],
   "source": [
    "top_5_internet.shape"
   ]
  },
  {
   "cell_type": "markdown",
   "id": "f0e9cc9d",
   "metadata": {},
   "source": [
    "## 29: Create a seaborn FacetGrid to show the internet usage trend across the years 2004, 2009, and 2014 for these 5 countries (those with the highest reported internet use in 2014). Which country had the greatest growth between 2004 and 2014?"
   ]
  },
  {
   "cell_type": "code",
   "execution_count": 36,
   "id": "a7cd5c49",
   "metadata": {
    "scrolled": true
   },
   "outputs": [
    {
     "data": {
      "image/png": "[encoded data removed]",
      "text/plain": [
       "<Figure size 1080x216 with 5 Axes>"
      ]
     },
     "metadata": {
      "needs_background": "light"
     },
     "output_type": "display_data"
    }
   ],
   "source": [
    "top_5_grid = sns.FacetGrid(top_5_internet, col= \"Country\")\n",
    "top_5_grid = top_5_grid.map(plt.plot, \"Year\", \"Internet_Users_Pct\", marker=\".\")"
   ]
  },
  {
   "cell_type": "code",
   "execution_count": 37,
   "id": "2b784b16",
   "metadata": {},
   "outputs": [
    {
     "data": {
      "text/html": [
       "<div>\n",
       "<style scoped>\n",
       "    .dataframe tbody tr th:only-of-type {\n",
       "        vertical-align: middle;\n",
       "    }\n",
       "\n",
       "    .dataframe tbody tr th {\n",
       "        vertical-align: top;\n",
       "    }\n",
       "\n",
       "    .dataframe thead th {\n",
       "        text-align: right;\n",
       "    }\n",
       "</style>\n",
       "<table border=\"1\" class=\"dataframe\">\n",
       "  <thead>\n",
       "    <tr style=\"text-align: right;\">\n",
       "      <th></th>\n",
       "      <th>Country</th>\n",
       "      <th>Year</th>\n",
       "      <th>GDP_Per_Capita</th>\n",
       "      <th>Internet_Users_Pct</th>\n",
       "    </tr>\n",
       "  </thead>\n",
       "  <tbody>\n",
       "    <tr>\n",
       "      <th>372</th>\n",
       "      <td>Bermuda</td>\n",
       "      <td>2014</td>\n",
       "      <td>77361.104881</td>\n",
       "      <td>96.800000</td>\n",
       "    </tr>\n",
       "    <tr>\n",
       "      <th>377</th>\n",
       "      <td>Bermuda</td>\n",
       "      <td>2009</td>\n",
       "      <td>89961.982744</td>\n",
       "      <td>83.250000</td>\n",
       "    </tr>\n",
       "    <tr>\n",
       "      <th>382</th>\n",
       "      <td>Bermuda</td>\n",
       "      <td>2004</td>\n",
       "      <td>90195.811033</td>\n",
       "      <td>60.990867</td>\n",
       "    </tr>\n",
       "  </tbody>\n",
       "</table>\n",
       "</div>"
      ],
      "text/plain": [
       "     Country  Year  GDP_Per_Capita  Internet_Users_Pct\n",
       "372  Bermuda  2014    77361.104881           96.800000\n",
       "377  Bermuda  2009    89961.982744           83.250000\n",
       "382  Bermuda  2004    90195.811033           60.990867"
      ]
     },
     "execution_count": 37,
     "metadata": {},
     "output_type": "execute_result"
    }
   ],
   "source": [
    "top_5_internet.loc[top_5_internet['Country'] == 'Bermuda']"
   ]
  },
  {
   "cell_type": "markdown",
   "id": "80024d23",
   "metadata": {},
   "source": [
    "## 30: Repeat the steps above to look at the trend for the 5 countries with the lowest 2014 internet usage. Which country has consistently had the least internet use?"
   ]
  },
  {
   "cell_type": "code",
   "execution_count": 38,
   "id": "168335e1",
   "metadata": {
    "scrolled": true
   },
   "outputs": [
    {
     "name": "stdout",
     "output_type": "stream",
     "text": [
      "           Country  Year  GDP_Per_Capita  Internet_Users_Pct\n",
      "3087   Timor-Leste  2014     3264.568070                1.14\n",
      "540        Burundi  2014      886.235777                1.38\n",
      "1261        Guinea  2014     2061.760973                1.72\n",
      "2256         Niger  2014     1127.615541                1.95\n",
      "2728  Sierra Leone  2014     1997.511853                2.10\n"
     ]
    }
   ],
   "source": [
    "bottom5_int_14 = fourteen.sort_values(by = 'Internet_Users_Pct').head()\n",
    "print(bottom5_int_14)"
   ]
  },
  {
   "cell_type": "code",
   "execution_count": 39,
   "id": "aacc1284",
   "metadata": {
    "scrolled": true
   },
   "outputs": [
    {
     "name": "stdout",
     "output_type": "stream",
     "text": [
      "           Country  Year  GDP_Per_Capita  Internet_Users_Pct\n",
      "540        Burundi  2014      886.235777            1.380000\n",
      "545        Burundi  2009      831.564131            0.900000\n",
      "550        Burundi  2004      817.460585            0.349060\n",
      "1261        Guinea  2014     2061.760973            1.720000\n",
      "1266        Guinea  2009     1825.576637            0.940000\n",
      "1271        Guinea  2004     1778.079082            0.508819\n",
      "2256         Niger  2014     1127.615541            1.950000\n",
      "2261         Niger  2009      992.409977            0.760000\n",
      "2266         Niger  2004      929.883920            0.189934\n",
      "2728  Sierra Leone  2014     1997.511853            2.100000\n",
      "2733  Sierra Leone  2009     1372.392285            0.260000\n",
      "2738  Sierra Leone  2004     1237.630244            0.203008\n",
      "3087   Timor-Leste  2014     3264.568070            1.140000\n",
      "3092   Timor-Leste  2009     2724.770973            0.185252\n"
     ]
    }
   ],
   "source": [
    "bottom_int_countries = gdp_and_internet_use_sub['Country'].isin(['Timor-Leste', 'Burundi', 'Guinea', 'Niger', 'Sierra Leone' ])\n",
    "bottom_5_internet = gdp_and_internet_use_sub[bottom_int_countries]\n",
    "print(bottom_5_internet)"
   ]
  },
  {
   "cell_type": "code",
   "execution_count": 40,
   "id": "a7faf559",
   "metadata": {},
   "outputs": [
    {
     "data": {
      "image/png": "[encoded data removed]",
      "text/plain": [
       "<Figure size 1080x216 with 5 Axes>"
      ]
     },
     "metadata": {
      "needs_background": "light"
     },
     "output_type": "display_data"
    }
   ],
   "source": [
    "bottom_5_grid = sns.FacetGrid(bottom_5_internet, col= \"Country\")\n",
    "bottom_5_grid = bottom_5_grid.map(plt.plot, \"Year\", \"Internet_Users_Pct\", marker=\".\")"
   ]
  },
  {
   "cell_type": "code",
   "execution_count": 41,
   "id": "8c1ec938",
   "metadata": {},
   "outputs": [
    {
     "data": {
      "text/html": [
       "<div>\n",
       "<style scoped>\n",
       "    .dataframe tbody tr th:only-of-type {\n",
       "        vertical-align: middle;\n",
       "    }\n",
       "\n",
       "    .dataframe tbody tr th {\n",
       "        vertical-align: top;\n",
       "    }\n",
       "\n",
       "    .dataframe thead th {\n",
       "        text-align: right;\n",
       "    }\n",
       "</style>\n",
       "<table border=\"1\" class=\"dataframe\">\n",
       "  <thead>\n",
       "    <tr style=\"text-align: right;\">\n",
       "      <th></th>\n",
       "      <th>Country</th>\n",
       "      <th>Year</th>\n",
       "      <th>GDP_Per_Capita</th>\n",
       "      <th>Internet_Users_Pct</th>\n",
       "    </tr>\n",
       "  </thead>\n",
       "  <tbody>\n",
       "    <tr>\n",
       "      <th>540</th>\n",
       "      <td>Burundi</td>\n",
       "      <td>2014</td>\n",
       "      <td>886.235777</td>\n",
       "      <td>1.38000</td>\n",
       "    </tr>\n",
       "    <tr>\n",
       "      <th>545</th>\n",
       "      <td>Burundi</td>\n",
       "      <td>2009</td>\n",
       "      <td>831.564131</td>\n",
       "      <td>0.90000</td>\n",
       "    </tr>\n",
       "    <tr>\n",
       "      <th>550</th>\n",
       "      <td>Burundi</td>\n",
       "      <td>2004</td>\n",
       "      <td>817.460585</td>\n",
       "      <td>0.34906</td>\n",
       "    </tr>\n",
       "  </tbody>\n",
       "</table>\n",
       "</div>"
      ],
      "text/plain": [
       "     Country  Year  GDP_Per_Capita  Internet_Users_Pct\n",
       "540  Burundi  2014      886.235777             1.38000\n",
       "545  Burundi  2009      831.564131             0.90000\n",
       "550  Burundi  2004      817.460585             0.34906"
      ]
     },
     "execution_count": 41,
     "metadata": {},
     "output_type": "execute_result"
    }
   ],
   "source": [
    "bottom_5_internet.loc[bottom_5_internet['Country'] == 'Burundi']"
   ]
  },
  {
   "cell_type": "markdown",
   "id": "96624253",
   "metadata": {},
   "source": [
    "## 31: Find the top 5 countries for 2014 in terms of GDP per capita; create a DataFrame to look at 10-year trends (use 2004, 2009, 2014 to look at the 10-year trend) in gdp per capita for the 5 countries with the highest 2014 GDP per capita. Use a seaborn facet grid for this."
   ]
  },
  {
   "cell_type": "code",
   "execution_count": 42,
   "id": "9d2c1d50",
   "metadata": {
    "scrolled": true
   },
   "outputs": [
    {
     "name": "stdout",
     "output_type": "stream",
     "text": [
      "             Country  Year  GDP_Per_Capita  Internet_Users_Pct\n",
      "1798      Luxembourg  2014   108760.916030               94.67\n",
      "2542           Qatar  2014    95578.416973               91.49\n",
      "2751       Singapore  2014    87808.663157               82.00\n",
      "372          Bermuda  2014    77361.104881               96.80\n",
      "627   Cayman Islands  2014    66207.447230               74.10\n"
     ]
    }
   ],
   "source": [
    "top5_gdp_14 = fourteen.sort_values(by = 'GDP_Per_Capita', ascending= False).head()\n",
    "print(top5_gdp_14)"
   ]
  },
  {
   "cell_type": "code",
   "execution_count": 43,
   "id": "9dc03c77",
   "metadata": {},
   "outputs": [
    {
     "name": "stdout",
     "output_type": "stream",
     "text": [
      "             Country  Year  GDP_Per_Capita  Internet_Users_Pct\n",
      "372          Bermuda  2014    77361.104881           96.800000\n",
      "377          Bermuda  2009    89961.982744           83.250000\n",
      "382          Bermuda  2004    90195.811033           60.990867\n",
      "627   Cayman Islands  2014    66207.447230           74.100000\n",
      "632   Cayman Islands  2009    70300.334857           64.500000\n",
      "1798      Luxembourg  2014   108760.916030           94.670000\n",
      "1803      Luxembourg  2009   104932.811953           87.310000\n",
      "1808      Luxembourg  2004   102708.212547           65.880000\n",
      "2542           Qatar  2014    95578.416973           91.490000\n",
      "2547           Qatar  2009    89954.519993           53.100000\n",
      "2552           Qatar  2004    93748.301216           20.701648\n",
      "2751       Singapore  2014    87808.663157           82.000000\n",
      "2756       Singapore  2009    69466.581746           69.000000\n",
      "2761       Singapore  2004    63901.716368           62.000000\n"
     ]
    }
   ],
   "source": [
    "top_gdp_countries = gdp_and_internet_use_sub['Country'].isin(['Luxembourg', 'Qatar', 'Singapore', 'Bermuda', 'Cayman Islands' ])\n",
    "top_10year = gdp_and_internet_use_sub[top_gdp_countries]\n",
    "print(top_10year)"
   ]
  },
  {
   "cell_type": "code",
   "execution_count": 44,
   "id": "edda9b21",
   "metadata": {},
   "outputs": [
    {
     "data": {
      "image/png": "[encoded data removed]",
      "text/plain": [
       "<Figure size 1080x216 with 5 Axes>"
      ]
     },
     "metadata": {
      "needs_background": "light"
     },
     "output_type": "display_data"
    }
   ],
   "source": [
    "top_10year_grid = sns.FacetGrid(top_10year, col= \"Country\")\n",
    "top_10year_grid = top_10year_grid.map(plt.plot, \"Year\", \"GDP_Per_Capita\", marker=\".\")"
   ]
  },
  {
   "cell_type": "markdown",
   "id": "03203913",
   "metadata": {},
   "source": [
    "## 32: Repeat this one more time to look at 10-year trend for the 5 countries for 2014 with the lowest GDP per capita."
   ]
  },
  {
   "cell_type": "code",
   "execution_count": 45,
   "id": "c21c40e8",
   "metadata": {
    "scrolled": true
   },
   "outputs": [
    {
     "name": "stdout",
     "output_type": "stream",
     "text": [
      "         Country  Year  GDP_Per_Capita  Internet_Users_Pct\n",
      "540      Burundi  2014      886.235777                1.38\n",
      "1842      Malawi  2014     1027.208496                5.83\n",
      "2256       Niger  2014     1127.615541                1.95\n",
      "2102  Mozambique  2014     1217.090210                5.94\n",
      "3098        Togo  2014     1404.132938                5.70\n"
     ]
    }
   ],
   "source": [
    "bottom5_gdp_14 = fourteen.sort_values(by = 'GDP_Per_Capita').head()\n",
    "print(bottom5_gdp_14)"
   ]
  },
  {
   "cell_type": "code",
   "execution_count": 46,
   "id": "ff73f3ce",
   "metadata": {
    "scrolled": true
   },
   "outputs": [
    {
     "name": "stdout",
     "output_type": "stream",
     "text": [
      "         Country  Year  GDP_Per_Capita  Internet_Users_Pct\n",
      "540      Burundi  2014      886.235777            1.380000\n",
      "545      Burundi  2009      831.564131            0.900000\n",
      "550      Burundi  2004      817.460585            0.349060\n",
      "1842      Malawi  2014     1027.208496            5.830000\n",
      "1847      Malawi  2009      932.867635            1.070000\n",
      "1852      Malawi  2004      775.346132            0.347505\n",
      "2102  Mozambique  2014     1217.090210            5.940000\n",
      "2107  Mozambique  2009      991.323181            2.680000\n",
      "2112  Mozambique  2004      792.727155            0.679448\n",
      "2256       Niger  2014     1127.615541            1.950000\n",
      "2261       Niger  2009      992.409977            0.760000\n",
      "2266       Niger  2004      929.883920            0.189934\n",
      "3098        Togo  2014     1404.132938            5.700000\n",
      "3103        Togo  2009     1186.114587            2.600000\n",
      "3108        Togo  2004     1276.676272            1.500000\n"
     ]
    }
   ],
   "source": [
    "bottom_gdp_countries = gdp_and_internet_use_sub['Country'].isin(['Burundi', 'Malawi', 'Niger', 'Mozambique', 'Togo'])\n",
    "bottom_10year = gdp_and_internet_use_sub[bottom_gdp_countries]\n",
    "print(bottom_10year)"
   ]
  },
  {
   "cell_type": "code",
   "execution_count": 47,
   "id": "7080f6ca",
   "metadata": {},
   "outputs": [
    {
     "data": {
      "image/png": "[encoded data removed]",
      "text/plain": [
       "<Figure size 1080x216 with 5 Axes>"
      ]
     },
     "metadata": {
      "needs_background": "light"
     },
     "output_type": "display_data"
    }
   ],
   "source": [
    "bottom_10year_grid = sns.FacetGrid(bottom_10year, col= \"Country\")\n",
    "bottom_10year_grid = bottom_10year_grid.map(plt.plot, \"Year\", \"GDP_Per_Capita\", marker=\".\")"
   ]
  },
  {
   "cell_type": "markdown",
   "id": "878a960f",
   "metadata": {},
   "source": [
    "## 33: Is there anything surprising or unusual in any of these plots? Searching on the internet, can you find any possible explanations for unusual findings?"
   ]
  },
  {
   "cell_type": "markdown",
   "id": "6b820ec1",
   "metadata": {},
   "source": [
    "### 2009 seems to be a point of interest in most visuals with top countries increasing around this point and bottom countries dipping."
   ]
  },
  {
   "cell_type": "markdown",
   "id": "63a0fb8c",
   "metadata": {},
   "source": [
    "### Many interesting events took place in 2009, the global H1N1 pandemic and Barrak Obama's presidential inauguration to name a few.\n",
    "### For more information and other events, please follow the links below.\n",
    "\n",
    "* <a href=\"https://en.wikipedia.org/wiki/2009_swine_flu_pandemic\">H1N1 Pandemic</a>\n",
    "\n",
    "* <a href=\"https://en.wikipedia.org/wiki/First_inauguration_of_Barack_Obama\">President Obama</a>\n",
    "\n",
    "* <a href=\"https://facts.net/history/historical-events/2009-facts/#:~:text=23%2028%20Mar%202009%3A%20The,woman%20to%20lead%20the%20UNDP.\">2009 events</a>\n",
    "\n",
    "* <a href=\"https://www.thepeoplehistory.com/2009.html\">More 2009 events</a>"
   ]
  },
  {
   "cell_type": "markdown",
   "id": "414b8a8e",
   "metadata": {},
   "source": [
    "## BONUS: Download another data set from the UN data (http://data.un.org/Explorer.aspx) to merge with your data and explore."
   ]
  },
  {
   "cell_type": "code",
   "execution_count": 48,
   "id": "8fb2b96d",
   "metadata": {},
   "outputs": [],
   "source": [
    "obesity_df = pd.read_csv(\"../data/adult_obesity.csv\", nrows=164)"
   ]
  },
  {
   "cell_type": "code",
   "execution_count": 49,
   "id": "fa484903",
   "metadata": {},
   "outputs": [],
   "source": [
    "obesity_df = obesity_df.drop(['Source', 'Unit', 'Value Footnotes'], axis=1)\n",
    "obesity_df = obesity_df.rename(columns = {'Country or Area': 'Country', 'Subgroup': 'Gender', 'Value': 'Percent_Obese'})\n",
    "obesity_df = obesity_df.loc[obesity_df['Year'].isin([2004, 2009, 2014])]"
   ]
  },
  {
   "cell_type": "code",
   "execution_count": 50,
   "id": "ae3ab245",
   "metadata": {
    "scrolled": false
   },
   "outputs": [
    {
     "data": {
      "text/html": [
       "<div>\n",
       "<style scoped>\n",
       "    .dataframe tbody tr th:only-of-type {\n",
       "        vertical-align: middle;\n",
       "    }\n",
       "\n",
       "    .dataframe tbody tr th {\n",
       "        vertical-align: top;\n",
       "    }\n",
       "\n",
       "    .dataframe thead th {\n",
       "        text-align: right;\n",
       "    }\n",
       "</style>\n",
       "<table border=\"1\" class=\"dataframe\">\n",
       "  <thead>\n",
       "    <tr style=\"text-align: right;\">\n",
       "      <th></th>\n",
       "      <th>Country</th>\n",
       "      <th>Gender</th>\n",
       "      <th>Year</th>\n",
       "      <th>Percent_Obese</th>\n",
       "      <th>GDP_Per_Capita</th>\n",
       "      <th>Internet_Users_Pct</th>\n",
       "    </tr>\n",
       "  </thead>\n",
       "  <tbody>\n",
       "    <tr>\n",
       "      <th>15</th>\n",
       "      <td>Seychelles</td>\n",
       "      <td>Female 15+ yr</td>\n",
       "      <td>2004</td>\n",
       "      <td>35</td>\n",
       "      <td>16913.702578</td>\n",
       "      <td>24.272139</td>\n",
       "    </tr>\n",
       "    <tr>\n",
       "      <th>6</th>\n",
       "      <td>Greece</td>\n",
       "      <td>Male 15+ yr</td>\n",
       "      <td>2004</td>\n",
       "      <td>26</td>\n",
       "      <td>35018.193259</td>\n",
       "      <td>21.420000</td>\n",
       "    </tr>\n",
       "    <tr>\n",
       "      <th>9</th>\n",
       "      <td>Latvia</td>\n",
       "      <td>Female 15+ yr</td>\n",
       "      <td>2004</td>\n",
       "      <td>20</td>\n",
       "      <td>18083.251996</td>\n",
       "      <td>38.580000</td>\n",
       "    </tr>\n",
       "    <tr>\n",
       "      <th>5</th>\n",
       "      <td>Greece</td>\n",
       "      <td>Female 15+ yr</td>\n",
       "      <td>2004</td>\n",
       "      <td>18</td>\n",
       "      <td>35018.193259</td>\n",
       "      <td>21.420000</td>\n",
       "    </tr>\n",
       "    <tr>\n",
       "      <th>7</th>\n",
       "      <td>Hungary</td>\n",
       "      <td>Female 15+ yr</td>\n",
       "      <td>2004</td>\n",
       "      <td>18</td>\n",
       "      <td>23392.327893</td>\n",
       "      <td>27.740000</td>\n",
       "    </tr>\n",
       "    <tr>\n",
       "      <th>8</th>\n",
       "      <td>Hungary</td>\n",
       "      <td>Male 15+ yr</td>\n",
       "      <td>2004</td>\n",
       "      <td>17</td>\n",
       "      <td>23392.327893</td>\n",
       "      <td>27.740000</td>\n",
       "    </tr>\n",
       "    <tr>\n",
       "      <th>12</th>\n",
       "      <td>Lithuania</td>\n",
       "      <td>Female 15+ yr</td>\n",
       "      <td>2004</td>\n",
       "      <td>17</td>\n",
       "      <td>19287.898468</td>\n",
       "      <td>31.230000</td>\n",
       "    </tr>\n",
       "    <tr>\n",
       "      <th>11</th>\n",
       "      <td>Lesotho</td>\n",
       "      <td>Female 15+ yr</td>\n",
       "      <td>2004</td>\n",
       "      <td>16</td>\n",
       "      <td>1820.079551</td>\n",
       "      <td>2.175524</td>\n",
       "    </tr>\n",
       "    <tr>\n",
       "      <th>16</th>\n",
       "      <td>Seychelles</td>\n",
       "      <td>Male 15+ yr</td>\n",
       "      <td>2004</td>\n",
       "      <td>15</td>\n",
       "      <td>16913.702578</td>\n",
       "      <td>24.272139</td>\n",
       "    </tr>\n",
       "    <tr>\n",
       "      <th>3</th>\n",
       "      <td>Estonia</td>\n",
       "      <td>Female 15+ yr</td>\n",
       "      <td>2004</td>\n",
       "      <td>15</td>\n",
       "      <td>23763.988944</td>\n",
       "      <td>53.200000</td>\n",
       "    </tr>\n",
       "    <tr>\n",
       "      <th>4</th>\n",
       "      <td>Estonia</td>\n",
       "      <td>Male 15+ yr</td>\n",
       "      <td>2004</td>\n",
       "      <td>14</td>\n",
       "      <td>23763.988944</td>\n",
       "      <td>53.200000</td>\n",
       "    </tr>\n",
       "    <tr>\n",
       "      <th>13</th>\n",
       "      <td>Lithuania</td>\n",
       "      <td>Male 15+ yr</td>\n",
       "      <td>2004</td>\n",
       "      <td>14</td>\n",
       "      <td>19287.898468</td>\n",
       "      <td>31.230000</td>\n",
       "    </tr>\n",
       "    <tr>\n",
       "      <th>0</th>\n",
       "      <td>Belgium</td>\n",
       "      <td>Female 15+ yr</td>\n",
       "      <td>2004</td>\n",
       "      <td>13</td>\n",
       "      <td>45685.004906</td>\n",
       "      <td>53.860000</td>\n",
       "    </tr>\n",
       "    <tr>\n",
       "      <th>1</th>\n",
       "      <td>Belgium</td>\n",
       "      <td>Male 15+ yr</td>\n",
       "      <td>2004</td>\n",
       "      <td>12</td>\n",
       "      <td>45685.004906</td>\n",
       "      <td>53.860000</td>\n",
       "    </tr>\n",
       "    <tr>\n",
       "      <th>10</th>\n",
       "      <td>Latvia</td>\n",
       "      <td>Male 15+ yr</td>\n",
       "      <td>2004</td>\n",
       "      <td>12</td>\n",
       "      <td>18083.251996</td>\n",
       "      <td>38.580000</td>\n",
       "    </tr>\n",
       "    <tr>\n",
       "      <th>2</th>\n",
       "      <td>Cameroon</td>\n",
       "      <td>Female 15+ yr</td>\n",
       "      <td>2004</td>\n",
       "      <td>8</td>\n",
       "      <td>3003.250985</td>\n",
       "      <td>0.976075</td>\n",
       "    </tr>\n",
       "    <tr>\n",
       "      <th>14</th>\n",
       "      <td>Madagascar</td>\n",
       "      <td>Female 15+ yr</td>\n",
       "      <td>2004</td>\n",
       "      <td>1</td>\n",
       "      <td>1533.698657</td>\n",
       "      <td>0.525354</td>\n",
       "    </tr>\n",
       "  </tbody>\n",
       "</table>\n",
       "</div>"
      ],
      "text/plain": [
       "       Country         Gender  Year  Percent_Obese  GDP_Per_Capita  \\\n",
       "15  Seychelles  Female 15+ yr  2004             35    16913.702578   \n",
       "6       Greece    Male 15+ yr  2004             26    35018.193259   \n",
       "9       Latvia  Female 15+ yr  2004             20    18083.251996   \n",
       "5       Greece  Female 15+ yr  2004             18    35018.193259   \n",
       "7      Hungary  Female 15+ yr  2004             18    23392.327893   \n",
       "8      Hungary    Male 15+ yr  2004             17    23392.327893   \n",
       "12   Lithuania  Female 15+ yr  2004             17    19287.898468   \n",
       "11     Lesotho  Female 15+ yr  2004             16     1820.079551   \n",
       "16  Seychelles    Male 15+ yr  2004             15    16913.702578   \n",
       "3      Estonia  Female 15+ yr  2004             15    23763.988944   \n",
       "4      Estonia    Male 15+ yr  2004             14    23763.988944   \n",
       "13   Lithuania    Male 15+ yr  2004             14    19287.898468   \n",
       "0      Belgium  Female 15+ yr  2004             13    45685.004906   \n",
       "1      Belgium    Male 15+ yr  2004             12    45685.004906   \n",
       "10      Latvia    Male 15+ yr  2004             12    18083.251996   \n",
       "2     Cameroon  Female 15+ yr  2004              8     3003.250985   \n",
       "14  Madagascar  Female 15+ yr  2004              1     1533.698657   \n",
       "\n",
       "    Internet_Users_Pct  \n",
       "15           24.272139  \n",
       "6            21.420000  \n",
       "9            38.580000  \n",
       "5            21.420000  \n",
       "7            27.740000  \n",
       "8            27.740000  \n",
       "12           31.230000  \n",
       "11            2.175524  \n",
       "16           24.272139  \n",
       "3            53.200000  \n",
       "4            53.200000  \n",
       "13           31.230000  \n",
       "0            53.860000  \n",
       "1            53.860000  \n",
       "10           38.580000  \n",
       "2             0.976075  \n",
       "14            0.525354  "
      ]
     },
     "execution_count": 50,
     "metadata": {},
     "output_type": "execute_result"
    }
   ],
   "source": [
    "obesity_with_gdp_and_int = pd.merge(obesity_df,gdp_and_internet_use_sub,on=['Country','Year'])\n",
    "obesity_with_gdp_and_int.sort_values('Percent_Obese', ascending= False)"
   ]
  },
  {
   "cell_type": "code",
   "execution_count": 51,
   "id": "370224ac",
   "metadata": {
    "scrolled": false
   },
   "outputs": [
    {
     "data": {
      "image/png": "[encoded data removed]",
      "text/plain": [
       "<Figure size 432x288 with 2 Axes>"
      ]
     },
     "metadata": {
      "needs_background": "light"
     },
     "output_type": "display_data"
    }
   ],
   "source": [
    "o_i_scatter = plt.scatter(data=obesity_with_gdp_and_int, x='Percent_Obese', y= 'Internet_Users_Pct', c='Percent_Obese', s='Percent_Obese')\n",
    "plt.title('Obesity and internet user pct per capita')\n",
    "plt.xlabel('Pct that are obese')\n",
    "plt.ylabel('Pct of internet users')\n",
    "plt.colorbar();"
   ]
  }
 ],
 "metadata": {
  "kernelspec": {
   "display_name": "Python 3",
   "language": "python",
   "name": "python3"
  },
  "language_info": {
   "codemirror_mode": {
    "name": "ipython",
    "version": 3
   },
   "file_extension": ".py",
   "mimetype": "text/x-python",
   "name": "python",
   "nbconvert_exporter": "python",
   "pygments_lexer": "ipython3",
   "version": "3.8.8"
  }
 },
 "nbformat": 4,
 "nbformat_minor": 5
}
